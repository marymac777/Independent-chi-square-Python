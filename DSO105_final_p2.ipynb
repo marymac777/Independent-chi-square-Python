{
 "cells": [
  {
   "cell_type": "code",
   "execution_count": 1,
   "id": "4ba4bfc0-869b-4d08-8783-5f19e03c509d",
   "metadata": {},
   "outputs": [],
   "source": [
    "import numpy as np\n",
    "import pandas as pd\n",
    "import seaborn as sns\n",
    "from scipy import stats"
   ]
  },
  {
   "cell_type": "markdown",
   "id": "b11f9eee-8cc3-4e4e-8121-6fbb2238cb2d",
   "metadata": {},
   "source": [
    "### Scenario 2\n",
    "#### using the record of how many times each antiseptic was used in each of the three clinics, compare the antiseptic usage across the three clinics\n",
    "#### Complete a independant chi square test"
   ]
  },
  {
   "cell_type": "code",
   "execution_count": 2,
   "id": "3ba181af-fafb-40b2-8482-834e76ac0ad1",
   "metadata": {},
   "outputs": [],
   "source": [
    "df2 = pd.read_csv(\"/Users/marymcwilliams/Downloads/antiseptics.csv\")\n",
    "df2.rename(columns={'Antiseptic Type ': \"AS\", \"Number of applications\": \"Count\"}, inplace=True)"
   ]
  },
  {
   "cell_type": "code",
   "execution_count": 3,
   "id": "cb6ec8a3-554e-49aa-b207-9013daee03fa",
   "metadata": {},
   "outputs": [
    {
     "data": {
      "text/html": [
       "<div>\n",
       "<style scoped>\n",
       "    .dataframe tbody tr th:only-of-type {\n",
       "        vertical-align: middle;\n",
       "    }\n",
       "\n",
       "    .dataframe tbody tr th {\n",
       "        vertical-align: top;\n",
       "    }\n",
       "\n",
       "    .dataframe thead th {\n",
       "        text-align: right;\n",
       "    }\n",
       "</style>\n",
       "<table border=\"1\" class=\"dataframe\">\n",
       "  <thead>\n",
       "    <tr style=\"text-align: right;\">\n",
       "      <th>Clinic</th>\n",
       "      <th>1</th>\n",
       "      <th>2</th>\n",
       "      <th>3</th>\n",
       "    </tr>\n",
       "    <tr>\n",
       "      <th>AS</th>\n",
       "      <th></th>\n",
       "      <th></th>\n",
       "      <th></th>\n",
       "    </tr>\n",
       "  </thead>\n",
       "  <tbody>\n",
       "    <tr>\n",
       "      <th>A</th>\n",
       "      <td>22</td>\n",
       "      <td>38</td>\n",
       "      <td>84</td>\n",
       "    </tr>\n",
       "    <tr>\n",
       "      <th>B</th>\n",
       "      <td>71</td>\n",
       "      <td>112</td>\n",
       "      <td>298</td>\n",
       "    </tr>\n",
       "    <tr>\n",
       "      <th>C</th>\n",
       "      <td>8</td>\n",
       "      <td>14</td>\n",
       "      <td>37</td>\n",
       "    </tr>\n",
       "    <tr>\n",
       "      <th>D</th>\n",
       "      <td>49</td>\n",
       "      <td>69</td>\n",
       "      <td>182</td>\n",
       "    </tr>\n",
       "  </tbody>\n",
       "</table>\n",
       "</div>"
      ],
      "text/plain": [
       "Clinic   1    2    3\n",
       "AS                  \n",
       "A       22   38   84\n",
       "B       71  112  298\n",
       "C        8   14   37\n",
       "D       49   69  182"
      ]
     },
     "execution_count": 3,
     "metadata": {},
     "output_type": "execute_result"
    }
   ],
   "source": [
    "df2_pivot = pd.pivot_table(df2,index='AS',columns='Clinic',values=\"Count\")\n",
    "df2_pivot"
   ]
  },
  {
   "cell_type": "code",
   "execution_count": 4,
   "id": "4c0f1652-a593-4be4-980c-1b4f89ecba89",
   "metadata": {},
   "outputs": [
    {
     "data": {
      "text/plain": [
       "(1.225920250023835,\n",
       " 0.9755850789571424,\n",
       " 6,\n",
       " array([[ 21.95121951,  34.09756098,  87.95121951],\n",
       "        [ 73.32317073, 113.8953252 , 293.78150407],\n",
       "        [  8.99390244,  13.97052846,  36.03556911],\n",
       "        [ 45.73170732,  71.03658537, 183.23170732]]))"
      ]
     },
     "execution_count": 4,
     "metadata": {},
     "output_type": "execute_result"
    }
   ],
   "source": [
    "stats.chi2_contingency(df2_pivot)"
   ]
  },
  {
   "cell_type": "markdown",
   "id": "08ba9c03-29a6-469d-ad3f-1689f8edbee3",
   "metadata": {},
   "source": [
    "#### Our P value here is .97 so we will accept the Null hypothosis, there is no significant difference in usage of antiseptic across these three clinics"
   ]
  },
  {
   "cell_type": "code",
   "execution_count": null,
   "id": "1f1f244d-05f0-4ee3-894c-9750e5a5ae07",
   "metadata": {},
   "outputs": [],
   "source": []
  }
 ],
 "metadata": {
  "kernelspec": {
   "display_name": "Python 3 (ipykernel)",
   "language": "python",
   "name": "python3"
  },
  "language_info": {
   "codemirror_mode": {
    "name": "ipython",
    "version": 3
   },
   "file_extension": ".py",
   "mimetype": "text/x-python",
   "name": "python",
   "nbconvert_exporter": "python",
   "pygments_lexer": "ipython3",
   "version": "3.9.10"
  }
 },
 "nbformat": 4,
 "nbformat_minor": 5
}
